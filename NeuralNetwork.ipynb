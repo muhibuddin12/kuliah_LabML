{
  "nbformat": 4,
  "nbformat_minor": 0,
  "metadata": {
    "colab": {
      "name": "NeuralNetwork.ipynb",
      "provenance": [],
      "collapsed_sections": [],
      "include_colab_link": true
    },
    "kernelspec": {
      "name": "python3",
      "display_name": "Python 3"
    },
    "accelerator": "GPU"
  },
  "cells": [
    {
      "cell_type": "markdown",
      "metadata": {
        "id": "view-in-github",
        "colab_type": "text"
      },
      "source": [
        "<a href=\"https://colab.research.google.com/github/muhibuddin12/kuliah_LabML/blob/master/NeuralNetwork.ipynb\" target=\"_parent\"><img src=\"https://colab.research.google.com/assets/colab-badge.svg\" alt=\"Open In Colab\"/></a>"
      ]
    },
    {
      "cell_type": "markdown",
      "metadata": {
        "id": "9e6ECsFu03Ze",
        "colab_type": "text"
      },
      "source": [
        "# 2 Layer Network"
      ]
    },
    {
      "cell_type": "code",
      "metadata": {
        "id": "cL4QhEA40PjU",
        "colab_type": "code",
        "colab": {}
      },
      "source": [
        "import numpy as np"
      ],
      "execution_count": 0,
      "outputs": []
    },
    {
      "cell_type": "code",
      "metadata": {
        "id": "jzJi9c601Eac",
        "colab_type": "code",
        "colab": {}
      },
      "source": [
        "#input dataset\n",
        "X= np.array([\n",
        "              [0,0,1],\n",
        "              [0,1,1],\n",
        "              [1,0,1],\n",
        "              [1,1,1]\n",
        "            ])\n",
        "\n",
        "#Output dataset\n",
        "y = np.array([[0,0,1,1]]).T"
      ],
      "execution_count": 0,
      "outputs": []
    },
    {
      "cell_type": "code",
      "metadata": {
        "id": "_4tOcKAo1lqi",
        "colab_type": "code",
        "colab": {}
      },
      "source": [
        "#Function Signoid\n",
        "\n",
        "def sigmoid(x):\n",
        "  return 1/(1+np.exp(-x)) "
      ],
      "execution_count": 0,
      "outputs": []
    },
    {
      "cell_type": "code",
      "metadata": {
        "id": "P1Wz4qhD1vRs",
        "colab_type": "code",
        "colab": {}
      },
      "source": [
        "#Generate Bobot\n",
        "np.random.seed(1)\n",
        "\n",
        "#Initialisasi bobot menggunakan random\n",
        "bobot = 2*np.random.random((3,1))-1"
      ],
      "execution_count": 0,
      "outputs": []
    },
    {
      "cell_type": "code",
      "metadata": {
        "id": "IW4UJ-pH3CN1",
        "colab_type": "code",
        "colab": {
          "base_uri": "https://localhost:8080/",
          "height": 68
        },
        "outputId": "568c1255-a729-4772-a0de-cf5f3796970c"
      },
      "source": [
        "bobot"
      ],
      "execution_count": 11,
      "outputs": [
        {
          "output_type": "execute_result",
          "data": {
            "text/plain": [
              "array([[-0.16595599],\n",
              "       [ 0.44064899],\n",
              "       [-0.99977125]])"
            ]
          },
          "metadata": {
            "tags": []
          },
          "execution_count": 11
        }
      ]
    },
    {
      "cell_type": "code",
      "metadata": {
        "id": "ebYKDz813DHz",
        "colab_type": "code",
        "colab": {
          "base_uri": "https://localhost:8080/",
          "height": 102
        },
        "outputId": "ee914f05-e0dd-4847-b0cf-bf12ae92dd16"
      },
      "source": [
        "for iter in range(1000):\n",
        "  #forward propagation\n",
        "  l0 = X\n",
        "  l1 = sigmoid(np.dot(l0,bobot))\n",
        "\n",
        "  l1_error = y - l1\n",
        "  l1_delta = l1_error * sigmoid(l1)\n",
        "\n",
        "  #update bobot\n",
        "  bobot += np.dot(l0.T,l1_delta)\n",
        "\n",
        "print('hasil Output Akhir')\n",
        "print(l1)"
      ],
      "execution_count": 19,
      "outputs": [
        {
          "output_type": "stream",
          "text": [
            "hasil Output Akhir\n",
            "[[2.57018981e-04]\n",
            " [1.71367744e-04]\n",
            " [9.99921853e-01]\n",
            " [9.99882789e-01]]\n"
          ],
          "name": "stdout"
        }
      ]
    },
    {
      "cell_type": "code",
      "metadata": {
        "id": "geRZ2vhL4nMk",
        "colab_type": "code",
        "colab": {}
      },
      "source": [
        ""
      ],
      "execution_count": 0,
      "outputs": []
    }
  ]
}