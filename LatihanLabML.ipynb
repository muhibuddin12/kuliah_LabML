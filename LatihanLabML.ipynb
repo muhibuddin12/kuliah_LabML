{
  "nbformat": 4,
  "nbformat_minor": 0,
  "metadata": {
    "colab": {
      "name": "LatihanLabML.ipynb",
      "provenance": [],
      "collapsed_sections": [],
      "include_colab_link": true
    },
    "kernelspec": {
      "name": "python3",
      "display_name": "Python 3"
    }
  },
  "cells": [
    {
      "cell_type": "markdown",
      "metadata": {
        "id": "view-in-github",
        "colab_type": "text"
      },
      "source": [
        "<a href=\"https://colab.research.google.com/github/muhibuddin12/kuliah_LabML/blob/master/LatihanLabML.ipynb\" target=\"_parent\"><img src=\"https://colab.research.google.com/assets/colab-badge.svg\" alt=\"Open In Colab\"/></a>"
      ]
    },
    {
      "cell_type": "code",
      "metadata": {
        "id": "M6pDL6sg5qEg",
        "colab_type": "code",
        "colab": {}
      },
      "source": [
        "from mlxtend.preprocessing import TransactionEncoder\n",
        "import pandas as pd\n",
        "from mlxtend.frequent_patterns import apriori, association_rules\n",
        "\n",
        "def rekomendasi():\n",
        "  nama_barang = input()\n",
        "  dataset = [\n",
        "           ['Apple','Cola','Rice','Chicken'],\n",
        "           ['Apple','Cola','Rice'],\n",
        "           ['Apple','Cola'],\n",
        "           ['Apple','Bananas'],\n",
        "           ['Milk','Cola','Rice','Chicken'],\n",
        "           ['Milk','Cola','Rice'],\n",
        "           ['Milk','Cola'],\n",
        "           ['Apple','Bananas']\n",
        "  ]\n",
        "\n",
        "  te = TransactionEncoder()\n",
        "  te_array = te.fit(dataset).transform(dataset)\n",
        "  df = pd.DataFrame(te_array,columns=te.columns_)\n",
        "  df\n",
        "  apriori(df, min_support=0.3)\n",
        "  frekuensi_itemsets = apriori(df,min_support=0.3,use_colnames=True)\n",
        "  #Aturan asosiasi\n",
        "  aturan_asosiasi = association_rules(frekuensi_itemsets, min_threshold=0.5,metric=\"confidence\")\n",
        "  hasil = aturan_asosiasi[aturan_asosiasi['antecedents'].astype(str) == \"frozenset({'\"+nama_barang+\"'})\"]\n",
        "  return hasil['consequents']\n",
        "  "
      ],
      "execution_count": 0,
      "outputs": []
    },
    {
      "cell_type": "code",
      "metadata": {
        "id": "IMbDSvMN7G0D",
        "colab_type": "code",
        "colab": {
          "base_uri": "https://localhost:8080/",
          "height": 68
        },
        "outputId": "f9291cdf-16d1-4869-d15d-38250ea0f31b"
      },
      "source": [
        "rekomendasi()"
      ],
      "execution_count": 69,
      "outputs": [
        {
          "output_type": "stream",
          "text": [
            "Rice\n"
          ],
          "name": "stdout"
        },
        {
          "output_type": "execute_result",
          "data": {
            "text/plain": [
              "4    frozenset({'Cola'})\n",
              "Name: consequents, dtype: object"
            ]
          },
          "metadata": {
            "tags": []
          },
          "execution_count": 69
        }
      ]
    },
    {
      "cell_type": "code",
      "metadata": {
        "id": "x4Gw4PLo7Sa5",
        "colab_type": "code",
        "colab": {}
      },
      "source": [
        ""
      ],
      "execution_count": 0,
      "outputs": []
    }
  ]
}